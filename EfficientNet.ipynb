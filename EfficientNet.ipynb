{
  "cells": [
    {
      "cell_type": "code",
      "execution_count": null,
      "metadata": {
        "id": "-NcxuqpD7FDA"
      },
      "outputs": [],
      "source": [
        "from tensorflow.keras.applications import VGG16\n",
        "from tensorflow.keras import layers\n",
        "import tensorflow as tf\n",
        "from tensorflow.keras.preprocessing.image import ImageDataGenerator\n",
        "import matplotlib.pyplot as plt\n",
        "import numpy as np\n",
        "from scipy import ndimage\n",
        "from sklearn.metrics import confusion_matrix, classification_report\n",
        "import seaborn as sns  # For visualizing the confusion matrix"
      ]
    },
    {
      "cell_type": "markdown",
      "metadata": {
        "id": "rIP-PMF38sIF"
      },
      "source": [
        "# LOAD DATA"
      ]
    },
    {
      "cell_type": "code",
      "execution_count": null,
      "metadata": {
        "colab": {
          "base_uri": "https://localhost:8080/"
        },
        "id": "qAN_-ymx7T_V",
        "outputId": "a8be7d92-26ff-4cdc-92fa-df031f43ca18"
      },
      "outputs": [
        {
          "name": "stdout",
          "output_type": "stream",
          "text": [
            "Cloning into 'Ai_Fungi_Finder'...\n",
            "remote: Enumerating objects: 10065, done.\u001b[K\n",
            "remote: Total 10065 (delta 0), reused 0 (delta 0), pack-reused 10065\u001b[K\n",
            "Receiving objects: 100% (10065/10065), 2.46 GiB | 36.54 MiB/s, done.\n",
            "Resolving deltas: 100% (33/33), done.\n",
            "Updating files: 100% (10061/10061), done.\n"
          ]
        }
      ],
      "source": [
        "! git clone https://github.com/LiamHogarth123/Ai_Fungi_Finder.git"
      ]
    },
    {
      "cell_type": "markdown",
      "metadata": {
        "id": "eu_JkpapBglh"
      },
      "source": [
        "# Connect to drive"
      ]
    },
    {
      "cell_type": "code",
      "execution_count": null,
      "metadata": {
        "colab": {
          "base_uri": "https://localhost:8080/"
        },
        "id": "0VP374HB8vO3",
        "outputId": "c16d2868-75f8-4b9e-ba9d-03aeefa44d08"
      },
      "outputs": [
        {
          "name": "stdout",
          "output_type": "stream",
          "text": [
            "Mounted at /content/drive\n"
          ]
        }
      ],
      "source": [
        "from google.colab import drive\n",
        "drive.mount('/content/drive')\n"
      ]
    },
    {
      "cell_type": "markdown",
      "metadata": {},
      "source": [
        "# Test Gpu"
      ]
    },
    {
      "cell_type": "code",
      "execution_count": null,
      "metadata": {},
      "outputs": [
        {
          "name": "stdout",
          "output_type": "stream",
          "text": [
            "Number of GPUs available: 1\n",
            "GPU 0: PhysicalDevice(name='/physical_device:GPU:0', device_type='GPU')\n"
          ]
        }
      ],
      "source": [
        "import tensorflow as tf\n",
        "\n",
        "gpus = tf.config.list_physical_devices('GPU')\n",
        "if gpus:\n",
        "    print(f\"Number of GPUs available: {len(gpus)}\")\n",
        "    for i, gpu in enumerate(gpus):\n",
        "        print(f\"GPU {i}: {gpu}\")\n",
        "else:\n",
        "    print(\"No GPUs available\")"
      ]
    },
    {
      "cell_type": "markdown",
      "metadata": {},
      "source": [
        "# Remove Corrupted Images"
      ]
    },
    {
      "cell_type": "code",
      "execution_count": 2,
      "metadata": {
        "id": "6OzlJS0zFxhQ"
      },
      "outputs": [],
      "source": [
        "import os\n",
        "from PIL import Image\n",
        "\n",
        "def identify_corrupted_images(directory):\n",
        "    corrupted_images = []\n",
        "    for root, dirs, files in os.walk(directory):\n",
        "        for file in files:\n",
        "            try:\n",
        "                img_path = os.path.join(root, file)\n",
        "                with Image.open(img_path) as img:\n",
        "                    img.load()\n",
        "            except OSError as e:\n",
        "                print(f\"Corrupted image: {img_path}\")\n",
        "                corrupted_images.append(img_path)\n",
        "    return corrupted_images\n",
        "\n",
        "# Replace '/path/to/dataset' with the path to your dataset directory\n",
        "corrupted_images = identify_corrupted_images('/home/liam/git/Ai_Fungi_Finder/Data_V3/Training')\n",
        "\n",
        "# Remove or replace corrupted images\n",
        "for img_path in corrupted_images:\n",
        "    # Remove the corrupted image\n",
        "    os.remove(img_path)\n",
        "    # Or replace with a placeholder image\n",
        "    # placeholder_img.save(img_path)\n"
      ]
    },
    {
      "cell_type": "markdown",
      "metadata": {},
      "source": [
        "# Load Plotting Function"
      ]
    },
    {
      "cell_type": "code",
      "execution_count": 9,
      "metadata": {
        "id": "lW0gE-3XNc3N"
      },
      "outputs": [],
      "source": [
        "def plot_model_history(model_history, acc='accuracy', val_acc='val_accuracy'):\n",
        "    fig, axs = plt.subplots(1,2,figsize=(15,5))\n",
        "    num_epochs = len(model_history.history[acc])\n",
        "    tick_positions = np.arange(1, num_epochs + 1, max(1, num_epochs // 10))\n",
        "\n",
        "    axs[0].plot(range(1, num_epochs + 1), model_history.history[acc])\n",
        "    axs[0].plot(range(1, num_epochs + 1), model_history.history[val_acc])\n",
        "    axs[0].set_title('Model Accuracy')\n",
        "    axs[0].set_ylabel('Accuracy')\n",
        "    axs[0].set_xlabel('Epoch')\n",
        "    axs[0].set_xticks(tick_positions)\n",
        "    axs[0].legend(['train', 'val'], loc='best')\n",
        "\n",
        "    axs[1].plot(range(1, num_epochs + 1), model_history.history['loss'])\n",
        "    axs[1].plot(range(1, num_epochs + 1), model_history.history['val_loss'])\n",
        "    axs[1].set_title('Model Loss')\n",
        "    axs[1].set_ylabel('Loss')\n",
        "    axs[1].set_xlabel('Epoch')\n",
        "    axs[1].set_xticks(tick_positions)\n",
        "    axs[1].legend(['train', 'val'], loc='best')\n",
        "\n",
        "    plt.show()"
      ]
    },
    {
      "cell_type": "markdown",
      "metadata": {
        "id": "UImUGxe7XDMF"
      },
      "source": [
        "# Loading an equal amount of each mushroom species data set"
      ]
    },
    {
      "cell_type": "code",
      "execution_count": 37,
      "metadata": {
        "id": "jhRB2-JCYQTU"
      },
      "outputs": [],
      "source": [
        "import os\n",
        "import shutil\n",
        "from glob import glob\n",
        "\n",
        "def copy_and_limit_images(source_dir, target_dir, max_images=80):\n",
        "    # Ensure the target directory exists\n",
        "    if not os.path.exists(target_dir):\n",
        "        os.makedirs(target_dir)\n",
        "\n",
        "    categories = [d for d in os.listdir(source_dir) if os.path.isdir(os.path.join(source_dir, d))]\n",
        "\n",
        "    for category in categories:\n",
        "        # Make sure each category directory exists in the target directory\n",
        "        category_target_dir = os.path.join(target_dir, category)\n",
        "        if not os.path.exists(category_target_dir):\n",
        "            os.makedirs(category_target_dir)\n",
        "\n",
        "        # Get all images in the source directory for this category\n",
        "        category_source_dir = os.path.join(source_dir, category)\n",
        "        images = glob(os.path.join(category_source_dir, '*'))\n",
        "\n",
        "        # Copy the first 'max_images' images to the target directory\n",
        "        for image_path in images[:max_images]:\n",
        "            shutil.copy(image_path, category_target_dir)\n",
        "\n",
        "def copy_and_limit_images2(source_dir, target_dir, max_images=240):\n",
        "    # Ensure the target directory exists\n",
        "    if not os.path.exists(target_dir):\n",
        "        os.makedirs(target_dir)\n",
        "\n",
        "    categories = [d for d in os.listdir(source_dir) if os.path.isdir(os.path.join(source_dir, d))]\n",
        "\n",
        "    for category in categories:\n",
        "        # Make sure each category directory exists in the target directory\n",
        "        category_target_dir = os.path.join(target_dir, category)\n",
        "        if not os.path.exists(category_target_dir):\n",
        "            os.makedirs(category_target_dir)\n",
        "\n",
        "        # Get all images in the source directory for this category\n",
        "        category_source_dir = os.path.join(source_dir, category)\n",
        "        images = glob(os.path.join(category_source_dir, '*'))\n",
        "\n",
        "        # Copy the first 'max_images' images to the target directory\n",
        "        for image_path in images[:max_images]:\n",
        "            shutil.copy(image_path, category_target_dir)\n",
        "\n",
        "\n",
        "# Define your source and target directories\n",
        "source_train_dir = '/home/liam/git/Ai_Fungi_Finder/Data_V3/Training'\n",
        "target_train_dir = '/home/liam/git/Ai_Fungi_Finder/Data_V3/Training_Limited'\n",
        "source_test_dir = '/home/liam/git/Ai_Fungi_Finder/Data_V3/Testing'\n",
        "target_test_dir = '/home/liam/git/Ai_Fungi_Finder/Data_V3/Testing_Limited'\n",
        "\n",
        "# Execute the function for both training and testing datasets\n",
        "copy_and_limit_images2(source_train_dir, target_train_dir)\n",
        "# copy_and_limit_images(source_test_dir, target_test_dir)\n"
      ]
    },
    {
      "cell_type": "markdown",
      "metadata": {
        "id": "vpFQ5pxc3RkM"
      },
      "source": [
        "# Efficientnet"
      ]
    },
    {
      "cell_type": "code",
      "execution_count": 3,
      "metadata": {
        "colab": {
          "base_uri": "https://localhost:8080/",
          "height": 211
        },
        "id": "7qPy28RgW7qT",
        "outputId": "90714e8d-a344-448f-ac64-46debc11b164"
      },
      "outputs": [
        {
          "ename": "NameError",
          "evalue": "name 'ImageDataGenerator' is not defined",
          "output_type": "error",
          "traceback": [
            "\u001b[0;31m---------------------------------------------------------------------------\u001b[0m",
            "\u001b[0;31mNameError\u001b[0m                                 Traceback (most recent call last)",
            "Cell \u001b[0;32mIn[3], line 6\u001b[0m\n\u001b[1;32m      1\u001b[0m \u001b[38;5;28;01mfrom\u001b[39;00m \u001b[38;5;21;01mtensorflow\u001b[39;00m\u001b[38;5;21;01m.\u001b[39;00m\u001b[38;5;21;01mkeras\u001b[39;00m\u001b[38;5;21;01m.\u001b[39;00m\u001b[38;5;21;01mlayers\u001b[39;00m \u001b[38;5;28;01mimport\u001b[39;00m Flatten, Dense, Dropout, Conv2D, Reshape\n\u001b[1;32m      5\u001b[0m \u001b[38;5;66;03m# Create an ImageDataGenerator object for training data\u001b[39;00m\n\u001b[0;32m----> 6\u001b[0m train_datagen \u001b[38;5;241m=\u001b[39m \u001b[43mImageDataGenerator\u001b[49m(\n\u001b[1;32m      7\u001b[0m     rescale\u001b[38;5;241m=\u001b[39m\u001b[38;5;241m1.\u001b[39m\u001b[38;5;241m/\u001b[39m\u001b[38;5;241m255\u001b[39m,     \u001b[38;5;66;03m# Normalize pixel values to [0,1]\u001b[39;00m\n\u001b[1;32m      8\u001b[0m     rotation_range\u001b[38;5;241m=\u001b[39m\u001b[38;5;241m40\u001b[39m,  \u001b[38;5;66;03m# Randomly rotate images in the range (degrees, 0 to 180)\u001b[39;00m\n\u001b[1;32m      9\u001b[0m     width_shift_range\u001b[38;5;241m=\u001b[39m\u001b[38;5;241m0.2\u001b[39m,  \u001b[38;5;66;03m# Randomly translate images horizontally\u001b[39;00m\n\u001b[1;32m     10\u001b[0m     height_shift_range\u001b[38;5;241m=\u001b[39m\u001b[38;5;241m0.2\u001b[39m, \u001b[38;5;66;03m# Randomly translate images vertically\u001b[39;00m\n\u001b[1;32m     11\u001b[0m     shear_range\u001b[38;5;241m=\u001b[39m\u001b[38;5;241m0.2\u001b[39m,    \u001b[38;5;66;03m# Randomly applying shearing transformations\u001b[39;00m\n\u001b[1;32m     12\u001b[0m     zoom_range\u001b[38;5;241m=\u001b[39m\u001b[38;5;241m0.2\u001b[39m,     \u001b[38;5;66;03m# Randomly zooming inside pictures\u001b[39;00m\n\u001b[1;32m     13\u001b[0m     horizontal_flip\u001b[38;5;241m=\u001b[39m\u001b[38;5;28;01mTrue\u001b[39;00m,  \u001b[38;5;66;03m# Randomly flipping half of the images horizontally\u001b[39;00m\n\u001b[1;32m     14\u001b[0m     fill_mode\u001b[38;5;241m=\u001b[39m\u001b[38;5;124m'\u001b[39m\u001b[38;5;124mnearest\u001b[39m\u001b[38;5;124m'\u001b[39m \u001b[38;5;66;03m# Strategy used for filling in newly created pixels\u001b[39;00m\n\u001b[1;32m     15\u001b[0m )\n\u001b[1;32m     17\u001b[0m \u001b[38;5;66;03m# Create an ImageDataGenerator object for validation data (No data augmentation)\u001b[39;00m\n\u001b[1;32m     18\u001b[0m validation_datagen \u001b[38;5;241m=\u001b[39m ImageDataGenerator(rescale\u001b[38;5;241m=\u001b[39m\u001b[38;5;241m1.\u001b[39m\u001b[38;5;241m/\u001b[39m\u001b[38;5;241m255\u001b[39m)\n",
            "\u001b[0;31mNameError\u001b[0m: name 'ImageDataGenerator' is not defined"
          ]
        }
      ],
      "source": [
        "# Import necessary libraries\n",
        "import tensorflow as tf\n",
        "from tensorflow.keras.preprocessing.image import ImageDataGenerator\n",
        "from tensorflow.keras.applications import EfficientNetB0\n",
        "from tensorflow.keras import layers, models, regularizers\n",
        "from tensorflow.keras.callbacks import EarlyStopping, ModelCheckpoint\n",
        "\n",
        "# Check if GPU is available\n",
        "#print(\"Num GPUs Available: \", len(tf.config.experimental.list_physical_devices('GPU')))\n",
        "\n",
        "# Create ImageDataGenerator objects\n",
        "train_datagen = ImageDataGenerator(\n",
        "    rescale=1./255,\n",
        "    rotation_range=40,\n",
        "    width_shift_range=0.2,\n",
        "    height_shift_range=0.2,\n",
        "    shear_range=0.2,\n",
        "    zoom_range=0.2,\n",
        "    horizontal_flip=True,\n",
        "    fill_mode='nearest'\n",
        ")\n",
        "\n",
        "validation_datagen = ImageDataGenerator(rescale=1./255)\n",
        "\n",
        "# Flow training and validation images in batches\n",
        "train_generator = train_datagen.flow_from_directory(\n",
        "    target_train_dir,  # This is the source directory for training images\n",
        "    target_size=(224, 224),  # All images will be resized to 224x224\n",
        "    batch_size=20,\n",
        "    class_mode='categorical'\n",
        ")\n",
        "\n",
        "validation_generator = validation_datagen.flow_from_directory(\n",
        "    target_test_dir,\n",
        "    target_size=(224, 224),\n",
        "    batch_size=20,\n",
        "    class_mode='categorical'\n",
        ")\n",
        "\n",
        "# Check the class indices\n",
        "print(\"Training class indices: \", train_generator.class_indices)\n",
        "print(\"Validation class indices: \", validation_generator.class_indices)\n",
        "\n",
        "# Check the shapes of the data\n",
        "batch_x, batch_y = next(train_generator)\n",
        "print(\"Batch X shape: \", batch_x.shape)  # Should be (20, 224, 224, 3)\n",
        "print(\"Batch Y shape: \", batch_y.shape)  # Should be (20, 9)\n",
        "\n",
        "# Initialize EfficientNetB0 model with pre-trained weights\n",
        "IMAGE_WIDTH = 224\n",
        "IMAGE_HEIGHT = 224\n",
        "pre_trained_model = EfficientNetB0(input_shape=(IMAGE_WIDTH, IMAGE_HEIGHT, 3), include_top=False, weights=\"imagenet\")\n",
        "\n",
        "# Freeze the layers except the last few layers\n",
        "for layer in pre_trained_model.layers[:-6]:\n",
        "    layer.trainable = False\n",
        "\n",
        "# Add new classifier layers\n",
        "last_layer = pre_trained_model.output\n",
        "\n",
        "x = layers.GlobalAveragePooling2D()(last_layer)\n",
        "x = layers.Dense(512, activation='relu', kernel_regularizer=regularizers.l2(0.001))(x)\n",
        "x = layers.Dropout(0.5)(x)\n",
        "x = layers.Dense(9, activation='softmax')(x)  # Changed to 9 for the number of mushroom species\n",
        "\n",
        "# Create the new model\n",
        "model = models.Model(inputs=pre_trained_model.input, outputs=x)\n",
        "\n",
        "# Compile the model with a higher learning rate\n",
        "model.compile(loss='categorical_crossentropy',\n",
        "              optimizer=tf.keras.optimizers.SGD(learning_rate=1e-4, momentum=0.9),\n",
        "              metrics=['accuracy'])\n",
        "\n",
        "# Print the model summary\n",
        "#model.summary()\n",
        "\n",
        "# Train the model with early stopping and checkpointing\n",
        "early_stopping = EarlyStopping(monitor='val_loss', patience=5, restore_best_weights=True)\n",
        "model_checkpoint = ModelCheckpoint('best_model_efficientnet.h5', monitor='val_loss', save_best_only=True)\n",
        "\n",
        "history = model.fit(\n",
        "    train_generator,\n",
        "    steps_per_epoch=train_generator.samples // train_generator.batch_size,\n",
        "    validation_data=validation_generator,\n",
        "    validation_steps=validation_generator.samples // validation_generator.batch_size,\n",
        "    epochs=5,\n",
        "    callbacks=[early_stopping, model_checkpoint]\n",
        ")\n",
        "\n",
        "# Evaluate the model\n",
        "loss, accuracy = model.evaluate(validation_generator)\n",
        "print(f'Validation Accuracy: {accuracy * 100:.2f}%')\n",
        "\n",
        "model.save('/home/liam/git/Ai_Fungi_Finder/models/EfficientNet')\n",
        "\n"
      ]
    },
    {
      "cell_type": "markdown",
      "metadata": {
        "id": "O4_0GtfT3duP"
      },
      "source": [
        "# Save Model"
      ]
    },
    {
      "cell_type": "code",
      "execution_count": 15,
      "metadata": {
        "id": "U26EcDu_AfuP"
      },
      "outputs": [
        {
          "name": "stdout",
          "output_type": "stream",
          "text": [
            "INFO:tensorflow:Assets written to: /home/liam/git/Ai_Fungi_Finder/models/InceptionV3/assets\n"
          ]
        },
        {
          "name": "stderr",
          "output_type": "stream",
          "text": [
            "INFO:tensorflow:Assets written to: /home/liam/git/Ai_Fungi_Finder/models/InceptionV3/assets\n"
          ]
        }
      ],
      "source": [
        "model.save('/home/liam/git/Ai_Fungi_Finder/models/InceptionV3-3')\n"
      ]
    },
    {
      "cell_type": "markdown",
      "metadata": {},
      "source": [
        "# Load model for more training\n"
      ]
    },
    {
      "cell_type": "code",
      "execution_count": 6,
      "metadata": {
        "colab": {
          "base_uri": "https://localhost:8080/"
        },
        "id": "baCLcyVRAhxK",
        "outputId": "531b662b-7215-4fc7-8cbd-91abfd010b31"
      },
      "outputs": [],
      "source": [
        "from tensorflow.keras.models import load_model\n",
        "\n",
        "# Load the previously saved model\n",
        "from tensorflow.keras.models import load_model\n",
        "model = load_model('/home/liam/git/Ai_Fungi_Finder/models/InceptionV3-V3')\n",
        "\n",
        "\n"
      ]
    },
    {
      "cell_type": "markdown",
      "metadata": {},
      "source": [
        "# Further train Model"
      ]
    },
    {
      "cell_type": "code",
      "execution_count": null,
      "metadata": {},
      "outputs": [],
      "source": [
        "# Continue training the model\n",
        "history = model.fit(\n",
        "    train_generator,\n",
        "    steps_per_epoch=train_generator.samples // train_generator.batch_size,\n",
        "    validation_data=validation_generator,\n",
        "    validation_steps=validation_generator.samples // validation_generator.batch_size,\n",
        "    epochs=100,  # Adjust the number of epochs as needed\n",
        "    callbacks=[early_stopping, model_checkpoint]\n",
        ")"
      ]
    },
    {
      "cell_type": "code",
      "execution_count": null,
      "metadata": {
        "id": "_OSolZu60OXh"
      },
      "outputs": [],
      "source": [
        "# Save the entire model\n",
        "model.save('/content/drive/My Drive/efficient_net_mushroom_classifier.h5')\n"
      ]
    },
    {
      "cell_type": "markdown",
      "metadata": {
        "id": "yBrkXAZ4373n"
      },
      "source": [
        "# Confusion matrix"
      ]
    },
    {
      "cell_type": "code",
      "execution_count": 10,
      "metadata": {
        "colab": {
          "base_uri": "https://localhost:8080/",
          "height": 1000
        },
        "id": "g2_TKE5LZj4U",
        "outputId": "94f23ea8-bfe2-4799-d44b-ee6a140256b3"
      },
      "outputs": [
        {
          "name": "stdout",
          "output_type": "stream",
          "text": [
            "45/45 [==============================] - 5s 120ms/step\n"
          ]
        },
        {
          "data": {
            "image/png": "[encoded data removed]",
            "text/plain": [
              "<Figure size 1000x800 with 2 Axes>"
            ]
          },
          "metadata": {},
          "output_type": "display_data"
        },
        {
          "name": "stdout",
          "output_type": "stream",
          "text": [
            "              precision    recall  f1-score   support\n",
            "\n",
            "    Agaricus       0.12      0.12      0.12       160\n",
            "     Amanita       0.10      0.10      0.10       160\n",
            "     Boletus       0.16      0.17      0.16       160\n",
            " Cortinarius       0.09      0.07      0.08       160\n",
            "    Entoloma       0.09      0.06      0.07       154\n",
            "   Hygrocybe       0.08      0.07      0.08       140\n",
            "   Lactarius       0.10      0.16      0.13       160\n",
            "     Russula       0.11      0.10      0.10       160\n",
            "     Suillus       0.08      0.06      0.07       160\n",
            "\n",
            "    accuracy                           0.10      1414\n",
            "   macro avg       0.10      0.10      0.10      1414\n",
            "weighted avg       0.10      0.10      0.10      1414\n",
            "\n"
          ]
        }
      ],
      "source": [
        "# Reset the validation generator\n",
        "from sklearn.metrics import confusion_matrix, classification_report\n",
        "\n",
        "validation_generator.reset()\n",
        "\n",
        "# Make predictions\n",
        "predictions = model.predict(validation_generator, steps=len(validation_generator))\n",
        "\n",
        "# Convert predictions to class indices\n",
        "predicted_classes = np.argmax(predictions, axis=1)\n",
        "\n",
        "# Retrieve true class indices\n",
        "true_classes = validation_generator.classes\n",
        "\n",
        "# Retrieve class labels\n",
        "class_labels = list(validation_generator.class_indices.keys())\n",
        "\n",
        "# Compute confusion matrix\n",
        "cm = confusion_matrix(true_classes, predicted_classes)\n",
        "\n",
        "# Plot confusion matrix\n",
        "plt.figure(figsize=(10, 8))\n",
        "sns.heatmap(cm, annot=True, fmt='d', cmap='Blues', xticklabels=class_labels, yticklabels=class_labels)\n",
        "plt.title('Confusion Matrix')\n",
        "plt.ylabel('True Label')\n",
        "plt.xlabel('Predicted Label')\n",
        "plt.show()\n",
        "\n",
        "# Print classification report\n",
        "print(classification_report(true_classes, predicted_classes, target_names=class_labels))"
      ]
    },
    {
      "cell_type": "markdown",
      "metadata": {
        "id": "KdhNPp2Lb_p7"
      },
      "source": [
        "# Classification Section"
      ]
    },
    {
      "cell_type": "code",
      "execution_count": null,
      "metadata": {
        "colab": {
          "base_uri": "https://localhost:8080/"
        },
        "id": "xOjMRfjXb_XF",
        "outputId": "5c2e0102-61b8-4cb4-c905-8457a0c90977"
      },
      "outputs": [
        {
          "name": "stdout",
          "output_type": "stream",
          "text": [
            "1/1 [==============================] - 0s 32ms/step\n",
            "Predicted Mushroom Species: Russula\n"
          ]
        }
      ],
      "source": [
        "import numpy as np\n",
        "from tensorflow.keras.preprocessing import image as k_image\n",
        "from tensorflow.keras.applications.inception_v3 import preprocess_input\n",
        "\n",
        "def predict_mushroom_species(img_path, model, class_labels):\n",
        "    # Load the image file, resizing it to 224x224 pixels (as required by the model)\n",
        "    img = k_image.load_img(img_path, target_size=(224, 224))\n",
        "    # Convert the image to a numpy array\n",
        "    img_array = k_image.img_to_array(img)\n",
        "    # Add a fourth dimension to the image (since Keras expects a list of images, not a single image)\n",
        "    img_array = np.expand_dims(img_array, axis=0)\n",
        "    # Preprocess the image by scaling pixel values to match the original model's training input\n",
        "    img_array = preprocess_input(img_array)\n",
        "    # Make predictions\n",
        "    predictions = model.predict(img_array)\n",
        "    # Retrieve the most likely result, e.g., highest probability\n",
        "    predicted_class_idx = np.argmax(predictions[0])\n",
        "    # Map the index to the class label\n",
        "    predicted_class_label = class_labels[predicted_class_idx]\n",
        "    return predicted_class_label\n",
        "\n",
        "# Example usage\n",
        "img_path = '/content/Ai_Fungi_Finder/Data_V3/Training/Agaricus/299_lLa-uv876WM.jpg'  # Path to new mushroom image\n",
        "predicted_class = predict_mushroom_species(img_path, model, list(train_generator.class_indices.keys()))\n",
        "print(f'Predicted Mushroom Species: {predicted_class}')\n"
      ]
    },
    {
      "cell_type": "markdown",
      "metadata": {},
      "source": [
        "# PCA Fix"
      ]
    },
    {
      "cell_type": "code",
      "execution_count": null,
      "metadata": {
        "id": "hmjZwHwbbv14"
      },
      "outputs": [],
      "source": [
        "from tensorflow.keras.models import Model\n",
        "\n",
        "# Assume 'pre_trained_model' is your VGG16 model loaded without the top and with ImageNet weights\n",
        "feature_extractor = Model(inputs=pre_trained_model.input, outputs=pre_trained_model.get_layer('block5_pool').output)\n",
        "from sklearn.decomposition import PCA\n",
        "import numpy as np\n",
        "\n",
        "def apply_pca_to_model(model, generator, num_components=50):\n",
        "    \"\"\"\n",
        "    Applies PCA to the output of a given model based on the data provided by a generator.\n",
        "\n",
        "    Args:\n",
        "    - model: TensorFlow/Keras model to extract features.\n",
        "    - generator: Data generator that feeds data into the model.\n",
        "    - num_components: Number of principal components to retain.\n",
        "\n",
        "    Returns:\n",
        "    - pca_features: PCA-reduced feature set.\n",
        "    \"\"\"\n",
        "    # Extract features from the model using the generator\n",
        "    features = model.predict(generator, steps=len(generator))\n",
        "\n",
        "    # Reshape the features to be two-dimensional\n",
        "    num_samples = features.shape[0]\n",
        "    features_flattened = features.reshape(num_samples, -1)\n",
        "\n",
        "    # Initialize and fit PCA\n",
        "    pca = PCA(n_components=num_components)\n",
        "    pca_features = pca.fit_transform(features_flattened)\n",
        "\n",
        "    return pca_features\n"
      ]
    }
  ],
  "metadata": {
    "accelerator": "GPU",
    "colab": {
      "gpuType": "T4",
      "provenance": []
    },
    "kernelspec": {
      "display_name": "Python 3",
      "name": "python3"
    },
    "language_info": {
      "codemirror_mode": {
        "name": "ipython",
        "version": 3
      },
      "file_extension": ".py",
      "mimetype": "text/x-python",
      "name": "python",
      "nbconvert_exporter": "python",
      "pygments_lexer": "ipython3",
      "version": "3.8.19"
    }
  },
  "nbformat": 4,
  "nbformat_minor": 0
}
